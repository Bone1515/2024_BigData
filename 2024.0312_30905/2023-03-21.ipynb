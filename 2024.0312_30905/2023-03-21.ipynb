{
 "cells": [
  {
   "cell_type": "markdown",
   "id": "33245cbe",
   "metadata": {},
   "source": [
    "## 30905_김진완_0321"
   ]
  },
  {
   "cell_type": "code",
   "execution_count": 3,
   "id": "c42f5045",
   "metadata": {},
   "outputs": [
    {
     "name": "stdout",
     "output_type": "stream",
     "text": [
      "+와 -를 번갈아 출력합니다\n",
      "몇 개를 출력할까요? :12\n",
      "+-+-+-+-+-+-\n"
     ]
    }
   ],
   "source": [
    "print('+와 -를 번갈아 출력합니다')\n",
    "a = int(input(\"몇 개를 출력할까요? :\"))\n",
    "\n",
    "for i in range(a):\n",
    "    if i % 2:\n",
    "        print('-',end=\"\")\n",
    "    else:\n",
    "        print('+',end=\"\")\n",
    "print()"
   ]
  },
  {
   "cell_type": "code",
   "execution_count": 15,
   "id": "29c5e138",
   "metadata": {},
   "outputs": [
    {
     "name": "stdout",
     "output_type": "stream",
     "text": [
      "+와 -를 번갈아 출력합니다\n",
      "몇 개를 출력할까요? :12\n",
      "+-+-+-+-+-+-\n"
     ]
    }
   ],
   "source": [
    "print('+와 -를 번갈아 출력합니다')\n",
    "a = int(input(\"몇 개를 출력할까요? :\"))\n",
    "\n",
    "for i in range(1,a+1):\n",
    "    if i % 2:\n",
    "        print('+',end=\"\")\n",
    "    else:\n",
    "        print('-',end=\"\")\n",
    "print()"
   ]
  },
  {
   "cell_type": "code",
   "execution_count": 19,
   "id": "92eaadb9",
   "metadata": {},
   "outputs": [
    {
     "name": "stdout",
     "output_type": "stream",
     "text": [
      "+와 -를 번갈아 출력합니다\n",
      "몇 개를 출력할까요? :20\n",
      "+-+-+-+-+-+-+-+-+-+-\n"
     ]
    }
   ],
   "source": [
    "print('+와 -를 번갈아 출력합니다')\n",
    "a = int(input(\"몇 개를 출력할까요? :\"))\n",
    "\n",
    "for _ in range(a//2):\n",
    "    print('+-', end='') # n//2개의 +-를 출력\n",
    "    \n",
    "if a % 2:\n",
    "    print('+', end='') # n이 홀 수 있을때만 +출력\n",
    "    \n",
    "print()"
   ]
  },
  {
   "cell_type": "code",
   "execution_count": 28,
   "id": "fa5cb74e",
   "metadata": {},
   "outputs": [
    {
     "name": "stdout",
     "output_type": "stream",
     "text": [
      "*를 출력합니다\n",
      "몇 개를 출력할까요? :20\n",
      "몇 개마다 줄바꿈할까요? :7\n",
      "*******\n",
      "*******\n",
      "******"
     ]
    }
   ],
   "source": [
    "print('*를 출력합니다')\n",
    "n = int(input(\"몇 개를 출력할까요? :\"))\n",
    "w = int(input(\"몇 개마다 줄바꿈할까요? :\"))\n",
    "\n",
    "for i in range(n):\n",
    "    print('*', end=\"\")\n",
    "    if i % w == w - 1: #n번 판단\n",
    "        print() #줄바꿈"
   ]
  },
  {
   "cell_type": "code",
   "execution_count": 29,
   "id": "7f7a3f25",
   "metadata": {},
   "outputs": [
    {
     "name": "stdout",
     "output_type": "stream",
     "text": [
      "1부터 n까지 정수의 합을 구합니다.\n"
     ]
    }
   ],
   "source": [
    "print('1부터 n까지 정수의 합을 구합니다.')\n",
    "\n",
    "while True:\n",
    "    n = in(input('n값을 입력하세요:'))\n",
    "    if n > 0:\n",
    "        break\n",
    "\n",
    "sum = 0\n",
    "i = 1\n",
    "\n",
    "for i in range(1. n+1):\n",
    "    sum += i\n",
    "    i += 1\n",
    "\n",
    "print(f'1부터 {n}까지 정수의 합은 {sum}입니다.')"
   ]
  },
  {
   "cell_type": "code",
   "execution_count": null,
   "id": "31c1ea66",
   "metadata": {},
   "outputs": [],
   "source": []
  }
 ],
 "metadata": {
  "kernelspec": {
   "display_name": "Python 3 (ipykernel)",
   "language": "python",
   "name": "python3"
  },
  "language_info": {
   "codemirror_mode": {
    "name": "ipython",
    "version": 3
   },
   "file_extension": ".py",
   "mimetype": "text/x-python",
   "name": "python",
   "nbconvert_exporter": "python",
   "pygments_lexer": "ipython3",
   "version": "3.9.7"
  }
 },
 "nbformat": 4,
 "nbformat_minor": 5
}
