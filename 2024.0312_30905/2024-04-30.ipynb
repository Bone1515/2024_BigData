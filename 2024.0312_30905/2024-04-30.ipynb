{
 "cells": [
  {
   "cell_type": "markdown",
   "id": "59f414aa",
   "metadata": {},
   "source": [
    "## 30904_김진완_0430"
   ]
  },
  {
   "cell_type": "code",
   "execution_count": 1,
   "id": "cb7c2b7e",
   "metadata": {},
   "outputs": [
    {
     "name": "stdout",
     "output_type": "stream",
     "text": [
      "연도 :  2024\n",
      "월 :  04\n",
      "일 :  30\n"
     ]
    }
   ],
   "source": [
    "date = '2024-04-30'\n",
    "\n",
    "print('연도 : ',date[:4])\n",
    "print('월 : ',date[5:7])\n",
    "print('일 : ',date[-2:])"
   ]
  },
  {
   "cell_type": "code",
   "execution_count": 7,
   "id": "104b3b74",
   "metadata": {},
   "outputs": [
    {
     "name": "stdout",
     "output_type": "stream",
     "text": [
      "['Danken', 'Katz', 'Los']\n",
      "Danken\n",
      "Katz\n",
      "Los\n"
     ]
    }
   ],
   "source": [
    "# 공부으로 문장을 나누는 명령어 split\n",
    "\n",
    "a = \"Danken Katz Los\"\n",
    "\n",
    "print(a.split()) #List\n",
    "print(a.split()[0])\n",
    "print(a.split()[1])\n",
    "print(a.split()[2])"
   ]
  },
  {
   "cell_type": "code",
   "execution_count": 15,
   "id": "e29f30a1",
   "metadata": {},
   "outputs": [
    {
     "name": "stdout",
     "output_type": "stream",
     "text": [
      "['2024', '04', '30']\n",
      "2024\n",
      "04\n",
      "30\n"
     ]
    }
   ],
   "source": [
    "# -(하이픈)을 기준으로 split\n",
    "date = '2024-04-30'\n",
    "\n",
    "print(date.split('-'))\n",
    "print(date.split('-')[0])\n",
    "print(date.split('-')[1])\n",
    "print(date.split('-')[2])"
   ]
  },
  {
   "cell_type": "code",
   "execution_count": 17,
   "id": "dad1aa6b",
   "metadata": {},
   "outputs": [
    {
     "name": "stdout",
     "output_type": "stream",
     "text": [
      "정렬 후 :  ['감자칩', '된장찌개', '바나나', '스테이크', '치킨', '파스타', '피자']\n"
     ]
    }
   ],
   "source": [
    "food = ['피자', '치킨', '스테이크', '된장찌개', '바나나', '파스타', '감자칩']\n",
    "\n",
    "food.sort()\n",
    "print('정렬 후 : ', food)"
   ]
  },
  {
   "cell_type": "code",
   "execution_count": 18,
   "id": "7a04d128",
   "metadata": {},
   "outputs": [
    {
     "name": "stdout",
     "output_type": "stream",
     "text": [
      "역순 정렬 후 :  ['피자', '파스타', '치킨', '스테이크', '바나나', '된장찌개', '감자칩']\n"
     ]
    }
   ],
   "source": [
    "# 리스트 원소 내림차순(역순)으로 정렬하기 .sort(reverse=True)\n",
    "food = ['피자', '치킨', '스테이크', '된장찌개', '바나나', '파스타', '감자칩']\n",
    "\n",
    "food.sort(reverse=True)\n",
    "print('역순 정렬 후 : ', food)"
   ]
  },
  {
   "cell_type": "code",
   "execution_count": 21,
   "id": "b1bb7a3c",
   "metadata": {},
   "outputs": [
    {
     "name": "stdout",
     "output_type": "stream",
     "text": [
      "[8, 24, 25, 36, 53, 56]\n",
      "[56, 53, 36, 25, 24, 8]\n"
     ]
    }
   ],
   "source": [
    "# 문제 역순으로 정렬하고 첫번째 두번째 출력해보기\n",
    "spending_6mon = [25, 36, 8, 53, 24, 56]\n",
    "\n",
    "spending_6mon.sort()\n",
    "print(spending_6mon)\n",
    "spending_6mon.sort(reverse=True)\n",
    "print(spending_6mon)"
   ]
  },
  {
   "cell_type": "code",
   "execution_count": 22,
   "id": "4d71064a",
   "metadata": {},
   "outputs": [
    {
     "name": "stdout",
     "output_type": "stream",
     "text": [
      "최대값 :  56\n",
      "최소값 :  8\n",
      "전체합 :  202\n",
      "24의 위치는 :  5\n"
     ]
    }
   ],
   "source": [
    "# 리스트 원소 중 최대값, 최소값 찾기 max min\n",
    "spending_6mon = [25, 36, 8, 53, 24, 56]\n",
    "\n",
    "print('최대값 : ',max(spending_6mon))\n",
    "print('최소값 : ',min(spending_6mon))\n",
    "# 리스트 원소 전체의 합 :sum\n",
    "print('전체합 : ',sum(spending_6mon))\n",
    "# 리스트안의 원소의 위치를 찾기 index\n",
    "print('24의 위치는 : ',spending_6mon.index(24)+1)"
   ]
  },
  {
   "cell_type": "code",
   "execution_count": null,
   "id": "70b9568e",
   "metadata": {},
   "outputs": [],
   "source": []
  }
 ],
 "metadata": {
  "kernelspec": {
   "display_name": "Python 3 (ipykernel)",
   "language": "python",
   "name": "python3"
  },
  "language_info": {
   "codemirror_mode": {
    "name": "ipython",
    "version": 3
   },
   "file_extension": ".py",
   "mimetype": "text/x-python",
   "name": "python",
   "nbconvert_exporter": "python",
   "pygments_lexer": "ipython3",
   "version": "3.9.7"
  }
 },
 "nbformat": 4,
 "nbformat_minor": 5
}
