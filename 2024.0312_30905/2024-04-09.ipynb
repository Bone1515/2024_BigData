{
 "cells": [
  {
   "cell_type": "markdown",
   "id": "892a91e4",
   "metadata": {},
   "source": [
    "## 30905_김진완_0409\n",
    "\n",
    "## 조건문으로 간단한 프로그램 만들기"
   ]
  },
  {
   "cell_type": "code",
   "execution_count": 5,
   "id": "385d11bb",
   "metadata": {},
   "outputs": [
    {
     "name": "stdout",
     "output_type": "stream",
     "text": [
      "나이가 어떻게 되십니까? 61\n",
      "노인은 7000원입니다.\n"
     ]
    }
   ],
   "source": [
    "# 목용탕 가면 미성년자는 6000원 성인 15000원\n",
    "# 나이를 입력받아서 구분하는 프로그램을 만들어 보자\n",
    "\n",
    "age = int(input('나이가 어떻게 되십니까? '))\n",
    "\n",
    "if age >= 60 :\n",
    "    print('성인은 15000원입니다.')\n",
    "    \n",
    "else :\n",
    "    print('미성년자는 6000원입니다.')"
   ]
  },
  {
   "cell_type": "code",
   "execution_count": 13,
   "id": "6266d2fd",
   "metadata": {},
   "outputs": [
    {
     "name": "stdout",
     "output_type": "stream",
     "text": [
      "나이가 어떻게 되십니까? 6\n",
      "미성년자는 6000원입니다.\n",
      "금액을 투입해 주세요 --> 6000\n",
      "이용해주셔서 감사합니다\n"
     ]
    }
   ],
   "source": [
    "# 나이구분\n",
    "# 금액 구분\n",
    "\n",
    "# 1단계\n",
    "\n",
    "age = int(input('나이가 어떻게 되십니까? '))\n",
    "\n",
    "if age >= 20 :\n",
    "    print('성인은 15000원입니다.')\n",
    "    price = 15000\n",
    "else :\n",
    "    print('미성년자는 6000원입니다.')\n",
    "    price = 6000\n",
    "#단계 투입금액을 입력받아 입장료와 비교하기\n",
    "\n",
    "price_input = int(input('금액을 투입해 주세요 --> '))\n",
    "\n",
    "if price_input < price :\n",
    "    print(f'{price-price_input}원 더 내셔야 합니다')\n",
    "elif price_input == price :\n",
    "    print('이용해주셔서 감사합니다')\n",
    "else :\n",
    "    print(f'{price_input-price}원 거슬러 드리겠습니다')"
   ]
  },
  {
   "cell_type": "code",
   "execution_count": 17,
   "id": "880214af",
   "metadata": {},
   "outputs": [
    {
     "name": "stdout",
     "output_type": "stream",
     "text": [
      "어떤 메뉴가 궁금하신가요?김밥\n",
      "야채김밥 : 3000원\n",
      "참치김밥 : 4000원\n",
      "꼬마김밥 : 2000원\n"
     ]
    }
   ],
   "source": [
    "menu =  input('어떤 메뉴가 궁금하신가요?')\n",
    "\n",
    "if menu == '라면' :\n",
    "    print('기본라면 : 3500원')\n",
    "    print('떡라면 : 3500원')\n",
    "    print('만두라면 : 4000원')\n",
    "elif menu == '김밥' :\n",
    "    print('야채김밥 : 3000원')\n",
    "    print('참치김밥 : 4000원')\n",
    "    print('꼬마김밥 : 2000원')\n",
    "else :\n",
    "    print('메뉴가 없습니다.')"
   ]
  },
  {
   "cell_type": "code",
   "execution_count": null,
   "id": "3178833f",
   "metadata": {},
   "outputs": [],
   "source": []
  }
 ],
 "metadata": {
  "kernelspec": {
   "display_name": "Python 3 (ipykernel)",
   "language": "python",
   "name": "python3"
  },
  "language_info": {
   "codemirror_mode": {
    "name": "ipython",
    "version": 3
   },
   "file_extension": ".py",
   "mimetype": "text/x-python",
   "name": "python",
   "nbconvert_exporter": "python",
   "pygments_lexer": "ipython3",
   "version": "3.9.7"
  }
 },
 "nbformat": 4,
 "nbformat_minor": 5
}
