{
 "cells": [
  {
   "cell_type": "markdown",
   "id": "6ba9e914",
   "metadata": {},
   "source": [
    "\n",
    "30904_김진완_0320"
   ]
  },
  {
   "cell_type": "code",
   "execution_count": 9,
   "id": "8179c455",
   "metadata": {},
   "outputs": [
    {
     "name": "stdout",
     "output_type": "stream",
     "text": [
      "a 부터 b까지 정수의 합을 구합니다\n",
      "123456789\n",
      "123456790\n",
      "123456789 + 123456790 = 246913579\n"
     ]
    }
   ],
   "source": [
    "print('a 부터 b까지 정수의 합을 구합니다')\n",
    "a = int(input())\n",
    "b = int(input())\n",
    "\n",
    "#오름차순 정렬\n",
    "if a > b :\n",
    "    a, b = b, a\n",
    "    \n",
    "sum = 0\n",
    "\n",
    "for i in range(a , b+1):\n",
    "    if i < b:\n",
    "        print(f'{i} + ', end=\"\")\n",
    "    else:\n",
    "        print(f'{i} = ', end=\"\")\n",
    "    sum = sum + i\n",
    "    \n",
    "print(sum)"
   ]
  },
  {
   "cell_type": "code",
   "execution_count": 14,
   "id": "a18edd6d",
   "metadata": {},
   "outputs": [
    {
     "name": "stdout",
     "output_type": "stream",
     "text": [
      "a 부터 b까지 정수의 합을 구합니다\n",
      "1\n",
      "15\n",
      "1 + 2 + 3 + 4 + 5 + 6 + 7 + 8 + 9 + 10 + 11 + 12 + 13 + 14 + 15 = 120\n"
     ]
    }
   ],
   "source": [
    "print('a 부터 b까지 정수의 합을 구합니다')\n",
    "a = int(input())\n",
    "b = int(input())\n",
    "\n",
    "#오름차순 정렬\n",
    "if a > b :\n",
    "    a, b = b, a\n",
    "    \n",
    "sum = 0\n",
    "\n",
    "for i in range(a,b):\n",
    "    print(f'{i} + ', end=\"\")\n",
    "    sum = sum + i\n",
    "    \n",
    "print(f'{b} = ', end=\"\")\n",
    "sum = sum+ b\n",
    "\n",
    "print(sum)"
   ]
  },
  {
   "cell_type": "code",
   "execution_count": 18,
   "id": "20c97761",
   "metadata": {},
   "outputs": [
    {
     "name": "stdout",
     "output_type": "stream",
     "text": [
      "+와 -를 번갈아 출력합니다\n",
      "몇 개를 출력할까요? :123\n",
      "+-+-+-+-+-+-+-+-+-+-+-+-+-+-+-+-+-+-+-+-+-+-+-+-+-+-+-+-+-+-+-+-+-+-+-+-+-+-+-+-+-+-+-+-+-+-+-+-+-+-+-+-+-+-+-+-+-+-+-+-+-+\n"
     ]
    }
   ],
   "source": [
    "print('+와 -를 번갈아 출력합니다')\n",
    "a = int(input(\"몇 개를 출력할까요? :\"))\n",
    "\n",
    "for i in range(a):\n",
    "    if i % 2:\n",
    "        print('-',end=\"\")\n",
    "    else:\n",
    "        print('+',end=\"\")\n",
    "print()"
   ]
  }
 ],
 "metadata": {
  "kernelspec": {
   "display_name": "Python 3 (ipykernel)",
   "language": "python",
   "name": "python3"
  },
  "language_info": {
   "codemirror_mode": {
    "name": "ipython",
    "version": 3
   },
   "file_extension": ".py",
   "mimetype": "text/x-python",
   "name": "python",
   "nbconvert_exporter": "python",
   "pygments_lexer": "ipython3",
   "version": "3.9.7"
  }
 },
 "nbformat": 4,
 "nbformat_minor": 5
}
