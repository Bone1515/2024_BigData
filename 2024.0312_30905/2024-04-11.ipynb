{
 "cells": [
  {
   "cell_type": "markdown",
   "id": "26ee6bb0",
   "metadata": {},
   "source": [
    "## 30904_김진완_0411"
   ]
  },
  {
   "cell_type": "code",
   "execution_count": 7,
   "id": "44b9cc5d",
   "metadata": {},
   "outputs": [
    {
     "name": "stdout",
     "output_type": "stream",
     "text": [
      "score : 100\n",
      "A\n"
     ]
    }
   ],
   "source": [
    "# 등급을 구분하는 프로그램\n",
    "# 80점이상이면 A 40점이상이면 B 나머지 C등급 출력\n",
    "# 0 ~ 100 사이 이외의 숫자는 \"잘못된 숫자를 입력했습니다\"\n",
    "\n",
    "# 입력설계\n",
    "score = int(input('score : '))\n",
    "\n",
    "# 올바른 숫자 범위가 맞는지 틀리는지 구분\n",
    "if score < 0 or score > 100 :\n",
    "    print(f'worng score')\n",
    "# 80점 이상 A등급 출력\n",
    "elif score >= 80 :\n",
    "    print(f'A')\n",
    "# 40점 이상 B등급 출력\n",
    "elif score >= 40 :\n",
    "    print(f'B')\n",
    "# 나머지 C등급 출력\n",
    "else score >= 0 :\n",
    "    print(f'C')"
   ]
  },
  {
   "cell_type": "code",
   "execution_count": 9,
   "id": "4295d4cc",
   "metadata": {},
   "outputs": [
    {
     "name": "stdout",
     "output_type": "stream",
     "text": [
      "score : 90\n",
      "A\n"
     ]
    }
   ],
   "source": [
    "score = int(input('score : '))\n",
    "\n",
    "if score < 0 or score > 100 :\n",
    "    print(f'worng score')\n",
    "else :\n",
    "    if score >= 80 :\n",
    "        print(f'A')\n",
    "    elif score >= 40 :\n",
    "        print(f'B')\n",
    "    else :\n",
    "        print(f'C')"
   ]
  },
  {
   "cell_type": "markdown",
   "id": "cb757989",
   "metadata": {},
   "source": [
    "## 범위 내에서 반복하기 : for\n",
    "\n",
    "반복문이란"
   ]
  },
  {
   "cell_type": "code",
   "execution_count": 11,
   "id": "16f48fb4",
   "metadata": {},
   "outputs": [
    {
     "name": "stdout",
     "output_type": "stream",
     "text": [
      "Hello\n",
      "Hello\n",
      "Hello\n",
      "Hello\n",
      "Hello\n"
     ]
    }
   ],
   "source": [
    "for a in [1,2,3,4,5] :\n",
    "    print('Hello')"
   ]
  },
  {
   "cell_type": "code",
   "execution_count": 16,
   "id": "aecfb42e",
   "metadata": {},
   "outputs": [
    {
     "name": "stdout",
     "output_type": "stream",
     "text": [
      "1 saving\n",
      "2 saving\n",
      "3 saving\n",
      "4 saving\n",
      "5 saving\n"
     ]
    }
   ],
   "source": [
    "for a in [1,2,3,4,5] :\n",
    "    print(a,'saving')"
   ]
  },
  {
   "cell_type": "code",
   "execution_count": 18,
   "id": "52462fcc",
   "metadata": {},
   "outputs": [
    {
     "name": "stdout",
     "output_type": "stream",
     "text": [
      "1 saving\n",
      "2 saving\n",
      "3 saving\n",
      "4 saving\n",
      "5 saving\n",
      "6 saving\n",
      "7 saving\n",
      "8 saving\n",
      "9 saving\n",
      "0 saving\n"
     ]
    }
   ],
   "source": [
    "for a in [1,2,3,4,5,6,7,8,9,0] :\n",
    "    print(a,'saving')"
   ]
  },
  {
   "cell_type": "markdown",
   "id": "2d5270fa",
   "metadata": {},
   "source": [
    "## 연속된 숫자를 range()로 간단하게 표현하기 :"
   ]
  },
  {
   "cell_type": "code",
   "execution_count": 23,
   "id": "dc81deb6",
   "metadata": {},
   "outputs": [
    {
     "name": "stdout",
     "output_type": "stream",
     "text": [
      "1 test\n",
      "3 test\n",
      "5 test\n",
      "7 test\n",
      "9 test\n",
      "11 test\n",
      "13 test\n",
      "15 test\n",
      "17 test\n",
      "19 test\n"
     ]
    }
   ],
   "source": [
    "for a in range(1, 20, 2) :\n",
    "    print(a, 'test')"
   ]
  },
  {
   "cell_type": "code",
   "execution_count": 24,
   "id": "36e3a970",
   "metadata": {},
   "outputs": [
    {
     "name": "stdout",
     "output_type": "stream",
     "text": [
      "1275\n"
     ]
    }
   ],
   "source": [
    "# 1부터 50까지 숫자의 합을 구하는 프로그램\n",
    "result = 0\n",
    "\n",
    "for i in range(1, 101) :\n",
    "    result += i\n",
    "print(result)"
   ]
  },
  {
   "cell_type": "code",
   "execution_count": 26,
   "id": "c9e7f281",
   "metadata": {},
   "outputs": [
    {
     "name": "stdout",
     "output_type": "stream",
     "text": [
      "1\n",
      "3\n",
      "6\n",
      "10\n",
      "15\n",
      "21\n",
      "28\n",
      "36\n",
      "45\n",
      "55\n",
      "66\n",
      "78\n",
      "91\n",
      "105\n",
      "120\n",
      "136\n",
      "153\n",
      "171\n",
      "190\n",
      "210\n",
      "231\n",
      "253\n",
      "276\n",
      "300\n",
      "325\n",
      "351\n",
      "378\n",
      "406\n",
      "435\n",
      "465\n",
      "496\n",
      "528\n",
      "561\n",
      "595\n",
      "630\n",
      "666\n",
      "703\n",
      "741\n",
      "780\n",
      "820\n",
      "861\n",
      "903\n",
      "946\n",
      "990\n",
      "1035\n",
      "1081\n",
      "1128\n",
      "1176\n",
      "1225\n",
      "1275\n"
     ]
    }
   ],
   "source": [
    "# print()를 반복문 내부에서 작성하면\n",
    "result = 0\n",
    "\n",
    "for i in range(1, 51) :\n",
    "    result += i\n",
    "    print(result)"
   ]
  },
  {
   "cell_type": "code",
   "execution_count": null,
   "id": "c6d82187",
   "metadata": {},
   "outputs": [],
   "source": []
  }
 ],
 "metadata": {
  "kernelspec": {
   "display_name": "Python 3 (ipykernel)",
   "language": "python",
   "name": "python3"
  },
  "language_info": {
   "codemirror_mode": {
    "name": "ipython",
    "version": 3
   },
   "file_extension": ".py",
   "mimetype": "text/x-python",
   "name": "python",
   "nbconvert_exporter": "python",
   "pygments_lexer": "ipython3",
   "version": "3.9.7"
  }
 },
 "nbformat": 4,
 "nbformat_minor": 5
}
