{
 "cells": [
  {
   "cell_type": "markdown",
   "id": "943bb9c2",
   "metadata": {},
   "source": [
    "## 30904_김진완_0417"
   ]
  },
  {
   "cell_type": "markdown",
   "id": "17f1822d",
   "metadata": {},
   "source": [
    "1부터 1000까지 숫자 중에서 2의 배수이거나 3의 배수면 더하는 프로그램"
   ]
  },
  {
   "cell_type": "code",
   "execution_count": 2,
   "id": "03a1e0ee",
   "metadata": {},
   "outputs": [
    {
     "name": "stdout",
     "output_type": "stream",
     "text": [
      "1부터 1000까지 숫자 중에서 2의 배수이거나 3의 배수면 더하는 프로그램\n",
      "334167\n"
     ]
    }
   ],
   "source": [
    "# 출력한다\n",
    "print('1부터 1000까지 숫자 중에서 2의 배수이거나 3의 배수면 더하는 프로그램')\n",
    "\n",
    "# 변수를 만들고 초기화한다\n",
    "res = 0\n",
    "num = 1\n",
    "\n",
    "# 언제까지 1부터 1000까지 , 반복문 , while\n",
    "# 2의 배수 이거나 3의배수\n",
    "# 2의 배수 num % 2 == 0\n",
    "# 이거나 or\n",
    "# 3의 배수 num % 3 == 0\n",
    "while num <= 1000:\n",
    "    if num % 2 == 0 or num % 3 == 0 :\n",
    "        res += num\n",
    "        \n",
    "    num += 1\n",
    "print(res)\n"
   ]
  },
  {
   "cell_type": "code",
   "execution_count": 3,
   "id": "22d1b572",
   "metadata": {},
   "outputs": [
    {
     "name": "stdout",
     "output_type": "stream",
     "text": [
      "1부터 1000까지 숫자 중에서 2의 배수이거나 3의 배수면 더하는 프로그램\n",
      "334167\n"
     ]
    }
   ],
   "source": [
    "# 1부터 1000까지 숫자 중에서 2의 배수이거나 3의 배수인 숫자를 더하는 프로그랩입니다.\n",
    "print('1부터 1000까지 숫자 중에서 2의 배수이거나 3의 배수면 더하는 프로그램')\n",
    "\n",
    "res = 0 # 결과를 저장할 변수를 초기화합니다\n",
    "num = 1 # 시작 숫자를 1로 설정합니다.\n",
    "\n",
    "# 1부터 1000까지의 숫자를 반복하면서 조건을 검사합니다.\n",
    "while num <= 1000:\n",
    "    # 만약 현재 숫자가 2의 배수이거나 3의 배수라면\n",
    "    if num % 2 == 0 or num % 3 == 0:\n",
    "        res += num # 결과 변수에 현재 숫자를 더합니다\n",
    "    num += 1 # 다음 숫자로 넘어갑니다.\n",
    "print(res) # 결과를 출력합니다."
   ]
  },
  {
   "cell_type": "markdown",
   "id": "2e2349da",
   "metadata": {},
   "source": [
    "## 구구단을 외자 ~~"
   ]
  },
  {
   "cell_type": "code",
   "execution_count": 7,
   "id": "b4493667",
   "metadata": {},
   "outputs": [
    {
     "name": "stdout",
     "output_type": "stream",
     "text": [
      "구구단을 외자! 구구단을 외자!\n",
      "8x9 = ?\n",
      "72\n",
      "정답!\n",
      "2x2 = ?\n",
      "4\n",
      "정답!\n",
      "4x3 = ?\n",
      "12\n",
      "정답!\n",
      "5x4 = ?\n",
      "20\n",
      "정답!\n",
      "5x8 = ?\n",
      "40\n",
      "정답!\n",
      "2x4 = ?\n",
      "8\n",
      "정답!\n",
      "4x5 = ?\n",
      "20\n",
      "정답!\n",
      "7x2 = ?\n",
      "14\n",
      "정답!\n",
      "4x8 = ?\n",
      "32\n",
      "정답!\n",
      "9x5 = ?\n",
      "45\n",
      "정답!\n",
      "맟춘 횟수 : 10, 틀린 횟수 :0\n"
     ]
    }
   ],
   "source": [
    "import random\n",
    "\n",
    "# 사용자에게 구구단을 외라는 메세지를 출력합니다.\n",
    "print('구구단을 외자! 구구단을 외자!')\n",
    "\n",
    "# 맞은 횟수와 틀린 횟수를 저장할 변수를 초기화 합니다.\n",
    "t_cnt = 0\n",
    "f_cnt = 0\n",
    "\n",
    "# 10번 반복하여 구구단 문제를 출제합니다.\n",
    "for i in range(10):\n",
    "    # 2에서 9까지의 임의의 숫자를 선택하여 구구단의 단을 결정합니다.\n",
    "    a = random.randint(2,9)\n",
    "    # 1에서 9까지의 임의의 숫자를 선택하여 구구단의 곱을 결정합니다.\n",
    "    b = random.randint(1,9)\n",
    "    # 문제를 출력합니다.\n",
    "    print('{}x{} = ?' .format(a,b))\n",
    "    # 사용자로부터 답을 입력받습니다.\n",
    "    answer = int(input(''))\n",
    "    # 사용자의 답과 정답을 비교하여 결과를 출력합니다.\n",
    "    if a*b == answer :\n",
    "        print('정답!')\n",
    "        # 맞은 횟수를 증가시킵니다.\n",
    "        t_cnt = t_cnt + 1\n",
    "    else :\n",
    "        print('틀렸어요!')\n",
    "        # 틀린 횟수를 증가시킵니다.\n",
    "        f_cnt = f_cnt + 1\n",
    "        \n",
    "# 최종적으로 맞은 횟수와 틀린 횟수를 출력합니다.\n",
    "print('맟춘 횟수 : {}, 틀린 횟수 :{}'.format(t_cnt, f_cnt))"
   ]
  },
  {
   "cell_type": "code",
   "execution_count": null,
   "id": "48a0fa0d",
   "metadata": {},
   "outputs": [],
   "source": []
  }
 ],
 "metadata": {
  "kernelspec": {
   "display_name": "Python 3 (ipykernel)",
   "language": "python",
   "name": "python3"
  },
  "language_info": {
   "codemirror_mode": {
    "name": "ipython",
    "version": 3
   },
   "file_extension": ".py",
   "mimetype": "text/x-python",
   "name": "python",
   "nbconvert_exporter": "python",
   "pygments_lexer": "ipython3",
   "version": "3.9.7"
  }
 },
 "nbformat": 4,
 "nbformat_minor": 5
}
