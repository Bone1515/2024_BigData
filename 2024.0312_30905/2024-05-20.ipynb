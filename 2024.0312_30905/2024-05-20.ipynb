{
 "cells": [
  {
   "cell_type": "markdown",
   "id": "af3ca5f5",
   "metadata": {},
   "source": [
    "## 30904_김진완_0520"
   ]
  },
  {
   "cell_type": "code",
   "execution_count": 1,
   "id": "100f742d",
   "metadata": {},
   "outputs": [],
   "source": [
    "olympic = [[1,'미국',46,37,38,121],\n",
    "          [2,'영국',27,23,17,67],\n",
    "          [3,'중국',26,18,26,70],\n",
    "          [4,'러시아',19,18,19,56],\n",
    "          [5,'독일',17,10,15,42],\n",
    "          [6,'일본',12,8,21,41],\n",
    "          [7,'프랑스',10,18,14,42],\n",
    "          [8,'대한민국',9,3,9,21]]"
   ]
  },
  {
   "cell_type": "code",
   "execution_count": 6,
   "id": "d8a10799",
   "metadata": {},
   "outputs": [
    {
     "ename": "NameError",
     "evalue": "name 'olymipc' is not defined",
     "output_type": "error",
     "traceback": [
      "\u001b[1;31m---------------------------------------------------------------------------\u001b[0m",
      "\u001b[1;31mNameError\u001b[0m                                 Traceback (most recent call last)",
      "\u001b[1;32m~\\AppData\\Local\\Temp/ipykernel_352/1240700546.py\u001b[0m in \u001b[0;36m<module>\u001b[1;34m\u001b[0m\n\u001b[1;32m----> 1\u001b[1;33m \u001b[0mprint\u001b[0m\u001b[1;33m(\u001b[0m\u001b[0molymipc\u001b[0m\u001b[1;33m[\u001b[0m\u001b[1;36m0\u001b[0m\u001b[1;33m]\u001b[0m\u001b[1;33m[\u001b[0m\u001b[1;36m1\u001b[0m\u001b[1;33m]\u001b[0m\u001b[1;33m,\u001b[0m\u001b[1;34m'금메달 개수 :'\u001b[0m\u001b[1;33m,\u001b[0m\u001b[0molympic\u001b[0m\u001b[1;33m[\u001b[0m\u001b[1;36m0\u001b[0m\u001b[1;33m]\u001b[0m\u001b[1;33m[\u001b[0m\u001b[1;36m2\u001b[0m\u001b[1;33m]\u001b[0m\u001b[1;33m)\u001b[0m\u001b[1;33m\u001b[0m\u001b[1;33m\u001b[0m\u001b[0m\n\u001b[0m\u001b[0;32m      2\u001b[0m \u001b[0mprint\u001b[0m\u001b[1;33m(\u001b[0m\u001b[0mol\u001b[0m\u001b[1;33m)\u001b[0m\u001b[1;33m\u001b[0m\u001b[1;33m\u001b[0m\u001b[0m\n",
      "\u001b[1;31mNameError\u001b[0m: name 'olymipc' is not defined"
     ]
    }
   ],
   "source": [
    "print(olymipc[0][1],'금메달 개수 :',olympic[0][2])"
   ]
  },
  {
   "cell_type": "code",
   "execution_count": 4,
   "id": "3481808b",
   "metadata": {},
   "outputs": [
    {
     "name": "stdout",
     "output_type": "stream",
     "text": [
      "금메달보다 은메달이 더 많은 나라\n",
      "프랑스\n"
     ]
    }
   ],
   "source": [
    "print('금메달보다 은메달이 더 많은 나라')\n",
    "for row in olympic :\n",
    "    if row[2] < row[3] :\n",
    "        print(row[1])"
   ]
  },
  {
   "cell_type": "code",
   "execution_count": 11,
   "id": "eee4c5a9",
   "metadata": {},
   "outputs": [
    {
     "name": "stdout",
     "output_type": "stream",
     "text": [
      "금메달 보다 동메달이 더 많은 나라\n",
      "일본\n",
      "프랑스\n"
     ]
    }
   ],
   "source": [
    "# 금메달보다 동메달이 더 많은 나라 출력하기\n",
    "print('금메달 보다 동메달이 더 많은 나라')\n",
    "for row in olympic :\n",
    "    if row[2] < row[4] :\n",
    "        print(row[1])"
   ]
  },
  {
   "cell_type": "code",
   "execution_count": 12,
   "id": "9b0b3d38",
   "metadata": {},
   "outputs": [
    {
     "name": "stdout",
     "output_type": "stream",
     "text": [
      "금메달 전체의 개수는?\n",
      "166\n"
     ]
    }
   ],
   "source": [
    "# 금메달의 전체 개수를 출력하기\n",
    "print('금메달 전체의 개수는?')\n",
    "total_gold = 0\n",
    "for row in olympic :\n",
    "    total_gold += row [2]\n",
    "print(total_gold)"
   ]
  },
  {
   "cell_type": "code",
   "execution_count": 15,
   "id": "f6ac1fe1",
   "metadata": {},
   "outputs": [
    {
     "name": "stdout",
     "output_type": "stream",
     "text": [
      "['역사탐험대', '파이썬', '학습법', '여행에세이', '삼국지']\n",
      "[23283, 20415, 17542, 18031, 16245]\n"
     ]
    }
   ],
   "source": [
    "import random\n",
    "book_name = [\"역사탐험대\",\"파이썬\",\"학습법\",\"여행에세이\",\"삼국지\"]\n",
    "book_price = []\n",
    "\n",
    "for i in range(len(book_name)):\n",
    "    book_price.append(random.randint(15000,25000))\n",
    "print(book_name)\n",
    "print(book_price)"
   ]
  },
  {
   "cell_type": "code",
   "execution_count": 17,
   "id": "63ae93a0",
   "metadata": {},
   "outputs": [
    {
     "name": "stdout",
     "output_type": "stream",
     "text": [
      "가장 비싼 책은 ?\n",
      "역사탐험대\n"
     ]
    }
   ],
   "source": [
    "#가장 비싼 책은?\n",
    "print('가장 비싼 책은 ?')\n",
    "expensive = max(book_price)\n",
    "idx = book_price.index(expensive)\n",
    "print(book_name[idx])"
   ]
  },
  {
   "cell_type": "code",
   "execution_count": null,
   "id": "68e05bb4",
   "metadata": {},
   "outputs": [],
   "source": []
  }
 ],
 "metadata": {
  "kernelspec": {
   "display_name": "Python 3 (ipykernel)",
   "language": "python",
   "name": "python3"
  },
  "language_info": {
   "codemirror_mode": {
    "name": "ipython",
    "version": 3
   },
   "file_extension": ".py",
   "mimetype": "text/x-python",
   "name": "python",
   "nbconvert_exporter": "python",
   "pygments_lexer": "ipython3",
   "version": "3.9.7"
  }
 },
 "nbformat": 4,
 "nbformat_minor": 5
}
