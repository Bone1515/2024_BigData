{
 "cells": [
  {
   "cell_type": "markdown",
   "id": "31095186",
   "metadata": {},
   "source": [
    "30905_김진완_0314_6"
   ]
  },
  {
   "cell_type": "markdown",
   "id": "5f176c9b",
   "metadata": {},
   "source": [
    ">3.1 데이터를 저장하는 공간: 변수\n",
    "\n",
    "3.1.1 변수란"
   ]
  },
  {
   "cell_type": "code",
   "execution_count": 1679,
   "id": "55de995d",
   "metadata": {},
   "outputs": [],
   "source": [
    "a = 10"
   ]
  },
  {
   "cell_type": "code",
   "execution_count": 1683,
   "id": "13088140",
   "metadata": {},
   "outputs": [],
   "source": [
    "a = 20"
   ]
  },
  {
   "cell_type": "code",
   "execution_count": 1684,
   "id": "0bccea2b",
   "metadata": {},
   "outputs": [
    {
     "name": "stdout",
     "output_type": "stream",
     "text": [
      "20\n"
     ]
    }
   ],
   "source": [
    "print(a)"
   ]
  },
  {
   "cell_type": "markdown",
   "id": "56a01d57",
   "metadata": {},
   "source": [
    "3.1.2 변수에 값을 저장하고 사용하기"
   ]
  },
  {
   "cell_type": "code",
   "execution_count": 3000,
   "id": "23ded86d",
   "metadata": {},
   "outputs": [
    {
     "name": "stdout",
     "output_type": "stream",
     "text": [
      "a\n",
      "10\n"
     ]
    }
   ],
   "source": [
    "a = 10\n",
    "print('a')\n",
    "print(a)"
   ]
  },
  {
   "cell_type": "code",
   "execution_count": 3004,
   "id": "46249d3e",
   "metadata": {},
   "outputs": [
    {
     "name": "stdout",
     "output_type": "stream",
     "text": [
      "10\n"
     ]
    }
   ],
   "source": [
    "가나다 = 10\n",
    "print(가나다)"
   ]
  },
  {
   "cell_type": "code",
   "execution_count": 3005,
   "id": "5ecf1579",
   "metadata": {},
   "outputs": [],
   "source": [
    "b = '성일'\n",
    "c = '정보'"
   ]
  },
  {
   "cell_type": "code",
   "execution_count": 3017,
   "id": "e1cfa8aa",
   "metadata": {},
   "outputs": [
    {
     "name": "stdout",
     "output_type": "stream",
     "text": [
      "yuri 키는 175.5 나이는 21 취미는 programing 입니다!\n"
     ]
    }
   ],
   "source": [
    "name = 'yuri'\n",
    "height = 175.5\n",
    "age = 21\n",
    "hobby = 'programing'\n",
    "print(name,'키는', height,'나이는', age,'취미는', hobby, '입니다!')"
   ]
  },
  {
   "cell_type": "code",
   "execution_count": 3023,
   "id": "b8cb0354",
   "metadata": {},
   "outputs": [
    {
     "name": "stdout",
     "output_type": "stream",
     "text": [
      "james 키는 186 나이는 24 취미는 cooking 입니다!\n",
      "james 키는 186, 나이는 24, 취미는 cooking입니다.\n",
      "james 키는 186, 나이는 24,취미는 cooking 입니다\n"
     ]
    }
   ],
   "source": [
    "name = 'james'\n",
    "height = 186\n",
    "age = 24\n",
    "hobby = 'cooking'\n",
    "print(name,'키는', height,'나이는', age,'취미는', hobby, '입니다!')\n",
    "print('{} 키는 {}, 나이는 {}, 취미는 {}입니다.'.format(name, height, age, hobby))\n",
    "print(f'{name} 키는 {height}, 나이는 {age},취미는 {hobby} 입니다')"
   ]
  },
  {
   "cell_type": "markdown",
   "id": "9a216a23",
   "metadata": {},
   "source": [
    "원의 넓이 구해봅시다.\n",
    "\n",
    "공식 : 파이 * 반지름 ** 2\n",
    "\n",
    "p = 3.141592\n",
    "\n",
    "r = 5"
   ]
  },
  {
   "cell_type": "code",
   "execution_count": 3027,
   "id": "8533ff67",
   "metadata": {},
   "outputs": [
    {
     "name": "stdout",
     "output_type": "stream",
     "text": [
      "원의 넓이 = 78.5398 \n"
     ]
    }
   ],
   "source": [
    "p = 3.141592\n",
    "\n",
    "r = 5\n",
    "\n",
    "result = p * r **2\n",
    "print(f'원의 넓이 = {result} ')"
   ]
  }
 ],
 "metadata": {
  "kernelspec": {
   "display_name": "Python 3 (ipykernel)",
   "language": "python",
   "name": "python3"
  },
  "language_info": {
   "codemirror_mode": {
    "name": "ipython",
    "version": 3
   },
   "file_extension": ".py",
   "mimetype": "text/x-python",
   "name": "python",
   "nbconvert_exporter": "python",
   "pygments_lexer": "ipython3",
   "version": "3.9.7"
  }
 },
 "nbformat": 4,
 "nbformat_minor": 5
}
