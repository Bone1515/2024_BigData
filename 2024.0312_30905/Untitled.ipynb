{
 "cells": [
  {
   "cell_type": "markdown",
   "id": "fa719f19",
   "metadata": {},
   "source": [
    "## 30904_김진완_0312_4"
   ]
  },
  {
   "cell_type": "markdown",
   "id": "4f564232",
   "metadata": {},
   "source": [
    "## 2.3 데이터를 넣는 입력 명령어\n",
    "#### 2.3.2 입력 명령어(dl)"
   ]
  },
  {
   "cell_type": "code",
   "execution_count": 4,
   "id": "edf1cd7a",
   "metadata": {
    "scrolled": true
   },
   "outputs": [
    {
     "name": "stdout",
     "output_type": "stream",
     "text": [
      "성일정보\n"
     ]
    },
    {
     "data": {
      "text/plain": [
       "'성일정보'"
      ]
     },
     "execution_count": 4,
     "metadata": {},
     "output_type": "execute_result"
    }
   ],
   "source": [
    "input()"
   ]
  },
  {
   "cell_type": "code",
   "execution_count": 5,
   "id": "cbf322e4",
   "metadata": {},
   "outputs": [
    {
     "name": "stdout",
     "output_type": "stream",
     "text": [
      "이름테스트\n"
     ]
    },
    {
     "data": {
      "text/plain": [
       "'테스트'"
      ]
     },
     "execution_count": 5,
     "metadata": {},
     "output_type": "execute_result"
    }
   ],
   "source": [
    "input(\"이름\")"
   ]
  },
  {
   "cell_type": "markdown",
   "id": "8e55a92e",
   "metadata": {},
   "source": [
    "출력 형태\n",
    "\n",
    "\"\"\"\n",
    "아이디 : \n",
    "비밀번호 :\n",
    "\"\"\""
   ]
  },
  {
   "cell_type": "code",
   "execution_count": 9,
   "id": "fb514191",
   "metadata": {},
   "outputs": [
    {
     "name": "stdout",
     "output_type": "stream",
     "text": [
      "아이디 : 123\n",
      "비밀번호  : 456\n"
     ]
    },
    {
     "data": {
      "text/plain": [
       "'456'"
      ]
     },
     "execution_count": 9,
     "metadata": {},
     "output_type": "execute_result"
    }
   ],
   "source": [
    "input(\"아이디 : \")\n",
    "input(\"비밀번호  : \")"
   ]
  },
  {
   "cell_type": "markdown",
   "id": "f2144201",
   "metadata": {},
   "source": [
    ">다음을 출력해봅시다\n",
    "\n",
    "```\n",
    "학번을 입력하세요 ---> 30904\n",
    "```"
   ]
  },
  {
   "cell_type": "code",
   "execution_count": 11,
   "id": "912e0fd8",
   "metadata": {},
   "outputs": [
    {
     "name": "stdout",
     "output_type": "stream",
     "text": [
      "학번을 입력하세요 ---> 30904\n"
     ]
    },
    {
     "data": {
      "text/plain": [
       "'30904'"
      ]
     },
     "execution_count": 11,
     "metadata": {},
     "output_type": "execute_result"
    }
   ],
   "source": [
    "input(\"학번을 입력하세요 ---> \")"
   ]
  },
  {
   "cell_type": "markdown",
   "id": "8bbb3cb9",
   "metadata": {},
   "source": [
    ">출력해보기\n",
    "```\n",
    "---회원가입---\n",
    "아이디 : gilbut\n",
    "가입을 환영합니다!\n",
    "```"
   ]
  },
  {
   "cell_type": "code",
   "execution_count": 12,
   "id": "a1b43025",
   "metadata": {},
   "outputs": [
    {
     "name": "stdout",
     "output_type": "stream",
     "text": [
      "---회원가입---\n",
      "아이디 : NNN\n",
      "가입을 환영합니다!\n"
     ]
    }
   ],
   "source": [
    "print('---회원가입---')\n",
    "input('아이디 : ')\n",
    "print('가입을 환영합니다!')"
   ]
  },
  {
   "cell_type": "markdown",
   "id": "e56e38ae",
   "metadata": {},
   "source": [
    ">출력해 봅시다\n",
    "\n",
    "```\n",
    "닉네임을 입력해주세요 --> a\n",
    "a님 안녕하세요\n",
    "```"
   ]
  },
  {
   "cell_type": "code",
   "execution_count": 16,
   "id": "ad640d9a",
   "metadata": {},
   "outputs": [
    {
     "name": "stdout",
     "output_type": "stream",
     "text": [
      "닉네임을 입력해주세요 --> NNN\n",
      "NNN님 안녕하세요\n"
     ]
    }
   ],
   "source": [
    "print(input('닉네임을 입력해주세요 --> ') + '님 안녕하세요')"
   ]
  }
 ],
 "metadata": {
  "kernelspec": {
   "display_name": "Python 3 (ipykernel)",
   "language": "python",
   "name": "python3"
  },
  "language_info": {
   "codemirror_mode": {
    "name": "ipython",
    "version": 3
   },
   "file_extension": ".py",
   "mimetype": "text/x-python",
   "name": "python",
   "nbconvert_exporter": "python",
   "pygments_lexer": "ipython3",
   "version": "3.9.7"
  }
 },
 "nbformat": 4,
 "nbformat_minor": 5
}
