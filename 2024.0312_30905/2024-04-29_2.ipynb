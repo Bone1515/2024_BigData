{
 "cells": [
  {
   "cell_type": "markdown",
   "id": "148e9584",
   "metadata": {},
   "source": [
    "## 0429_2"
   ]
  },
  {
   "cell_type": "markdown",
   "id": "5ecf4839",
   "metadata": {},
   "source": [
    "본 문제는 python 의 빠른 기초 학습을 위해 설계된 문제로서 python 코드 제출을 기준으로 설명되어 있습니다. \n",
    "------\n",
    "\n",
    "1, 2, 3 ... 을 순서대로 계속 더해 합을 만드는데,\n",
    "그 합이 입력한 정수보다 작을 동안만 계속 더하는 프로그램을 작성해보자.\n",
    "\n",
    "즉, 1부터 n까지 정수를 하나씩 더해 합을 만드는데,\n",
    "어디까지 더해야 입력한 수보다 같거나 커지는지 알아보고자 하는 문제이다.\n",
    "\n",
    "하지만, 이번에는 그 때 까지의 합을 출력해야 한다.\n",
    "\n",
    "예를 들어, 57을 입력하면\n",
    "1+2+3+...+8+9+10=55에서 그 다음 수인 11을 더해 66이 될 때,\n",
    "그 값 66이 출력되어야 한다.\n",
    "\n",
    "예시\n",
    "...\n",
    "while True :\n",
    "  s += c\n",
    "  c += 1\n",
    "  if s>=n :\n",
    "    break\n",
    "\n",
    "print(s)\n",
    "\n",
    "참고\n",
    "조건문이나 반복문의 코드블록 안에서 break 가 실행되면,\n",
    "반복실행을 중단(break)하고, 가장 가까운 반복 블록의 밖으로 빠져나간다.\n"
   ]
  },
  {
   "cell_type": "code",
   "execution_count": 11,
   "id": "d7e9c069",
   "metadata": {},
   "outputs": [
    {
     "name": "stdout",
     "output_type": "stream",
     "text": [
      "57\n",
      "66\n"
     ]
    }
   ],
   "source": [
    "a=int(input())\n",
    "s=0\n",
    "c=0\n",
    "\n",
    "while True:\n",
    "    s=s+c\n",
    "    c=c+1\n",
    "    if s>=a:\n",
    "        break\n",
    "    \n",
    "print(s)"
   ]
  },
  {
   "cell_type": "markdown",
   "id": "2766eb67",
   "metadata": {},
   "source": [
    "본 문제는 python 의 빠른 기초 학습을 위해 설계된 문제로서 python 코드 제출을 기준으로 설명되어 있습니다. \n",
    "------\n",
    "\n",
    "1부터 입력한 정수까지 1씩 증가시켜 출력하는 프로그램을 작성하되,\n",
    "3의 배수인 경우는 출력하지 않도록 만들어보자.\n",
    "\n",
    "예를 들면,\n",
    "1 2 4 5 7 8 10 11 13 14 ...\n",
    "와 같이 출력하는 것이다.\n",
    "\n",
    "예시\n",
    "...\n",
    "for i in range(1, n+1) :\n",
    "  if i%2==0 :\n",
    "    continue            #다음 반복 단계로 넘어간다.\n",
    "  print(i, end=' ')    #i가 짝수가 아닐 때만 실행된다.\n",
    "...\n",
    "위 코드는 홀 수만 출력하는 예시이다.\n",
    "\n",
    "참고\n",
    "조건문이나 반복문의 코드블록 안에서 continue 가 실행되면,\n",
    "반복 블록 안에 있는 나머지 부분을 실행하지 않고, 다음 반복 단계로 넘어간다.\n",
    "즉, 반복 블록의 나머지 부분은 실행되지 않고, 다음 단계의 반복을 계속(continue)하는 것이다."
   ]
  },
  {
   "cell_type": "code",
   "execution_count": 12,
   "id": "461814ff",
   "metadata": {},
   "outputs": [
    {
     "name": "stdout",
     "output_type": "stream",
     "text": [
      "10\n",
      "1 2 4 5 7 8 10 "
     ]
    }
   ],
   "source": [
    "n=int(input())\n",
    "\n",
    "for i in range(1, n+1) : \n",
    "  if i%3==0 : \n",
    "    continue\n",
    "  print(i, end=' ')"
   ]
  },
  {
   "cell_type": "markdown",
   "id": "8c8c01f7",
   "metadata": {},
   "source": [
    "본 문제는 python 의 빠른 기초 학습을 위해 설계된 문제로서 python 코드 제출을 기준으로 설명되어 있습니다. \n",
    "------\n",
    "\n",
    "어떤 규칙에 따라 수를 순서대로 나열한 것을 수열(sequences)이라고 한다.\n",
    "\n",
    "예를 들어\n",
    "1 4 7 10 13 16 19 22 25 ... 은\n",
    "1부터 시작해 이전에 만든 수에 3을 더해 다음 수를 만든 수열이다.\n",
    "이러한 것을 수학에서는 앞뒤 수들의 차이가 같다고 하여\n",
    "\n",
    "등차(차이가 같다의 한문 말) 수열이라고 한다. (등차수열 : arithmetic progression/sequence)\n",
    "수열을 알게 된 영일이는 갑자기 궁금해졌다.\n",
    "\n",
    "\"그럼.... 123번째 나오는 수는 뭘까?\"\n",
    "\n",
    "영일이는 프로그램을 만들어 더 큰 수도 자동으로 계산하고 싶어졌다.\n",
    "\n",
    "시작 값(a), 등차(d), 몇 번째인지를 나타내는 정수(n)가 입력될 때\n",
    "n번째 수를 출력하는 프로그램을 만들어보자.\n"
   ]
  },
  {
   "cell_type": "code",
   "execution_count": 13,
   "id": "504cb35f",
   "metadata": {},
   "outputs": [
    {
     "name": "stdout",
     "output_type": "stream",
     "text": [
      "1 3 5\n",
      "13\n"
     ]
    }
   ],
   "source": [
    "a,d,n=input().split()\n",
    "\n",
    "a=int(a)\n",
    "d=int(d)\n",
    "n=int(n)\n",
    "\n",
    "s=a\n",
    "for i in range(2, n+1):\n",
    "   s+=d\n",
    "\n",
    "print(s)"
   ]
  }
 ],
 "metadata": {
  "kernelspec": {
   "display_name": "Python 3 (ipykernel)",
   "language": "python",
   "name": "python3"
  },
  "language_info": {
   "codemirror_mode": {
    "name": "ipython",
    "version": 3
   },
   "file_extension": ".py",
   "mimetype": "text/x-python",
   "name": "python",
   "nbconvert_exporter": "python",
   "pygments_lexer": "ipython3",
   "version": "3.9.7"
  }
 },
 "nbformat": 4,
 "nbformat_minor": 5
}
