{
 "cells": [
  {
   "cell_type": "markdown",
   "id": "216c5a56",
   "metadata": {},
   "source": [
    "## 30904_김진완_0521"
   ]
  },
  {
   "cell_type": "markdown",
   "id": "a665a5c7",
   "metadata": {},
   "source": [
    "## 딕셔너리 : 사전\n",
    "\n",
    "- 키와 값으로 구성됩니다.\n",
    "- {}를 이용한다."
   ]
  },
  {
   "cell_type": "code",
   "execution_count": 2,
   "id": "4aedafd5",
   "metadata": {},
   "outputs": [
    {
     "name": "stdout",
     "output_type": "stream",
     "text": [
      "{'break': '깨어지다', 'bring': '가져오다', 'brush': '붓', 'brave': '용감한'}\n"
     ]
    }
   ],
   "source": [
    "eng = {'break':'깨어지다','bring':'가져오다','brush':'붓','brave':'용감한'}\n",
    "print(eng)"
   ]
  },
  {
   "cell_type": "code",
   "execution_count": 3,
   "id": "c87fb09e",
   "metadata": {},
   "outputs": [
    {
     "name": "stdout",
     "output_type": "stream",
     "text": [
      "깨어지다\n"
     ]
    }
   ],
   "source": [
    "print(eng['break'])"
   ]
  },
  {
   "cell_type": "code",
   "execution_count": 4,
   "id": "4440c5bf",
   "metadata": {},
   "outputs": [
    {
     "name": "stdout",
     "output_type": "stream",
     "text": [
      "붓\n",
      "용감한\n"
     ]
    }
   ],
   "source": [
    "print(eng['brush'])\n",
    "print(eng['brave'])"
   ]
  },
  {
   "cell_type": "code",
   "execution_count": 5,
   "id": "a5ac8db3",
   "metadata": {},
   "outputs": [
    {
     "ename": "KeyError",
     "evalue": "'brief'",
     "output_type": "error",
     "traceback": [
      "\u001b[1;31m---------------------------------------------------------------------------\u001b[0m",
      "\u001b[1;31mKeyError\u001b[0m                                  Traceback (most recent call last)",
      "\u001b[1;32m~\\AppData\\Local\\Temp/ipykernel_9180/1619027262.py\u001b[0m in \u001b[0;36m<module>\u001b[1;34m\u001b[0m\n\u001b[1;32m----> 1\u001b[1;33m \u001b[0mprint\u001b[0m\u001b[1;33m(\u001b[0m\u001b[0meng\u001b[0m\u001b[1;33m[\u001b[0m\u001b[1;34m'brief'\u001b[0m\u001b[1;33m]\u001b[0m\u001b[1;33m)\u001b[0m\u001b[1;33m\u001b[0m\u001b[1;33m\u001b[0m\u001b[0m\n\u001b[0m",
      "\u001b[1;31mKeyError\u001b[0m: 'brief'"
     ]
    }
   ],
   "source": [
    "print(eng['brief'])"
   ]
  },
  {
   "cell_type": "code",
   "execution_count": 8,
   "id": "028591c1",
   "metadata": {},
   "outputs": [
    {
     "name": "stdout",
     "output_type": "stream",
     "text": [
      "어떤 메뉴를 드시겠습니까?김밥\n",
      "2500 원 입니다.\n"
     ]
    }
   ],
   "source": [
    "menu = {'김밥':2500,'참치김밥':3500,'라면':3000,'치즈라면':4000}\n",
    "eat = input('어떤 메뉴를 드시겠습니까?')\n",
    "print(menu[eat],'원 입니다.')"
   ]
  },
  {
   "cell_type": "code",
   "execution_count": 10,
   "id": "79556a24",
   "metadata": {},
   "outputs": [],
   "source": [
    "menu['라면'] = 3500\n",
    "menu['치즈라면'] = 4500"
   ]
  },
  {
   "cell_type": "code",
   "execution_count": 11,
   "id": "6245590e",
   "metadata": {},
   "outputs": [
    {
     "name": "stdout",
     "output_type": "stream",
     "text": [
      "{'김밥': 2500, '참치김밥': 3500, '라면': 3500, '치즈라면': 4500}\n"
     ]
    }
   ],
   "source": [
    "print(menu)"
   ]
  },
  {
   "cell_type": "code",
   "execution_count": 15,
   "id": "0f4dd5ae",
   "metadata": {},
   "outputs": [
    {
     "name": "stdout",
     "output_type": "stream",
     "text": [
      "{'김밥': 3000, '참치김밥': 3500, '라면': 3500, '치즈라면': 4500}\n"
     ]
    }
   ],
   "source": [
    "menu['김밥'] += 500\n",
    "print(menu)"
   ]
  },
  {
   "cell_type": "code",
   "execution_count": 16,
   "id": "88556bcc",
   "metadata": {},
   "outputs": [
    {
     "name": "stdout",
     "output_type": "stream",
     "text": [
      "{'김밥': 3000, '참치김밥': 3500, '라면': 3500, '치즈라면': 4500, '돈가스': 6000}\n"
     ]
    }
   ],
   "source": [
    "# 돈가스 6000원 추가\n",
    "menu['돈가스'] = 6000\n",
    "print(menu)"
   ]
  },
  {
   "cell_type": "code",
   "execution_count": 20,
   "id": "2d95b76d",
   "metadata": {},
   "outputs": [
    {
     "name": "stdout",
     "output_type": "stream",
     "text": [
      "추가할 메뉴는돈가스\n",
      "추가될 메뉴의 가격6000\n",
      "{'김밥': 2500, '참치김밥': 3500, '라면': 3000, '치즈라면': 4000, '돈가스': 6000}\n"
     ]
    }
   ],
   "source": [
    "menu = {'김밥':2500,'참치김밥':3500,'라면':3000,'치즈라면':4000}\n",
    "add = input('추가할 메뉴는')\n",
    "price = int(input('추가될 메뉴의 가격'))\n",
    "\n",
    "menu[add] = price\n",
    "print(menu)"
   ]
  },
  {
   "cell_type": "code",
   "execution_count": 21,
   "id": "e4b70e7a",
   "metadata": {},
   "outputs": [
    {
     "name": "stdout",
     "output_type": "stream",
     "text": [
      "삭제할 메뉴는돈가스\n",
      "{'김밥': 2500, '참치김밥': 3500, '라면': 3000, '치즈라면': 4000}\n"
     ]
    }
   ],
   "source": [
    "xo = input('삭제할 메뉴는')\n",
    "\n",
    "del menu[xo]\n",
    "print(menu)"
   ]
  },
  {
   "cell_type": "code",
   "execution_count": 22,
   "id": "52e28f9a",
   "metadata": {},
   "outputs": [
    {
     "name": "stdout",
     "output_type": "stream",
     "text": [
      "dict_items([('김밥', 2500), ('참치김밥', 3500), ('라면', 3000), ('치즈라면', 4000)])\n"
     ]
    }
   ],
   "source": [
    "print(menu.items())"
   ]
  },
  {
   "cell_type": "code",
   "execution_count": 23,
   "id": "3be1083a",
   "metadata": {},
   "outputs": [
    {
     "name": "stdout",
     "output_type": "stream",
     "text": [
      "['김밥', '라면', '참치김밥', '치즈라면']\n"
     ]
    }
   ],
   "source": [
    "print(sorted(menu.keys()))"
   ]
  },
  {
   "cell_type": "code",
   "execution_count": 24,
   "id": "2599904a",
   "metadata": {},
   "outputs": [
    {
     "name": "stdout",
     "output_type": "stream",
     "text": [
      "['치즈라면', '참치김밥', '라면', '김밥']\n",
      "[('김밥', 2500), ('라면', 3000), ('참치김밥', 3500), ('치즈라면', 4000)]\n"
     ]
    }
   ],
   "source": [
    "print(sorted(menu.keys(), reverse = True))\n",
    "print(sorted(menu.items()))"
   ]
  },
  {
   "cell_type": "code",
   "execution_count": 25,
   "id": "ee81b768",
   "metadata": {},
   "outputs": [
    {
     "name": "stdout",
     "output_type": "stream",
     "text": [
      "[('치즈라면', 4000), ('참치김밥', 3500)]\n"
     ]
    }
   ],
   "source": [
    "import operator\n",
    "\n",
    "print(sorted(menu.items(), key=operator.itemgetter(1), reverse=True)[:2])"
   ]
  },
  {
   "cell_type": "code",
   "execution_count": 27,
   "id": "e5210f2c",
   "metadata": {},
   "outputs": [
    {
     "name": "stdout",
     "output_type": "stream",
     "text": [
      "{'도윤': 43, '하윤': 82, '시우': 76, '지유': 61, '주원': 94}\n",
      "어떤 학생의 점수가 궁금하신가요?도윤\n",
      "43 입니다\n"
     ]
    }
   ],
   "source": [
    "midterm = {'도윤':43,'하윤':82,'시우':76,'지유':61,'주원':94}\n",
    "print(midterm)\n",
    "student = input('어떤 학생의 점수가 궁금하신가요?')\n",
    "\n",
    "if student in midterm.keys():\n",
    "    print(midterm[student],'입니다')\n",
    "else:\n",
    "    print('해당 학생은 없습니다')"
   ]
  },
  {
   "cell_type": "code",
   "execution_count": 28,
   "id": "36d0c595",
   "metadata": {},
   "outputs": [
    {
     "name": "stdout",
     "output_type": "stream",
     "text": [
      "하윤 82\n",
      "시우 76\n",
      "주원 94\n"
     ]
    }
   ],
   "source": [
    "midterm = {'도윤':43,'하윤':82,'시우':76,'지유':61,'주원':94}\n",
    "\n",
    "for k,v in midterm.items():\n",
    "    if v>= 70 :\n",
    "        print(k,v)"
   ]
  },
  {
   "cell_type": "code",
   "execution_count": null,
   "id": "29fd3d99",
   "metadata": {},
   "outputs": [],
   "source": []
  }
 ],
 "metadata": {
  "kernelspec": {
   "display_name": "Python 3 (ipykernel)",
   "language": "python",
   "name": "python3"
  },
  "language_info": {
   "codemirror_mode": {
    "name": "ipython",
    "version": 3
   },
   "file_extension": ".py",
   "mimetype": "text/x-python",
   "name": "python",
   "nbconvert_exporter": "python",
   "pygments_lexer": "ipython3",
   "version": "3.9.7"
  }
 },
 "nbformat": 4,
 "nbformat_minor": 5
}
