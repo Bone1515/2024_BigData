{
 "cells": [
  {
   "cell_type": "markdown",
   "id": "bdf3f1c7",
   "metadata": {},
   "source": [
    "### 30905_김진완_0408"
   ]
  },
  {
   "cell_type": "markdown",
   "id": "5afc5526",
   "metadata": {},
   "source": [
    "선택구조가 하나일때\n",
    "    if문"
   ]
  },
  {
   "cell_type": "code",
   "execution_count": 1,
   "id": "12877817",
   "metadata": {},
   "outputs": [
    {
     "name": "stdout",
     "output_type": "stream",
     "text": [
      "청소년은 주류를 구매할 수 없습니다.\n"
     ]
    }
   ],
   "source": [
    "age = 19\n",
    "\n",
    "if age < 20 :\n",
    "    print(f'청소년은 주류를 구매할 수 없습니다.')\n",
    "    \n",
    "\n",
    "# 청소년은 주류를 구매할 수 없습니다. 출력"
   ]
  },
  {
   "cell_type": "code",
   "execution_count": 5,
   "id": "e5b92da6",
   "metadata": {},
   "outputs": [
    {
     "name": "stdout",
     "output_type": "stream",
     "text": [
      "나이가 어떻게 되십니까?6\n",
      "청소년은 주류를 구매할 수 없습니다.\n",
      "14년 후에 다시 찾아주십시오.\n"
     ]
    }
   ],
   "source": [
    "age = int(input('나이가 어떻게 되십니까?'))\n",
    "\n",
    "\n",
    "if age < 20 :\n",
    "    print(f'청소년은 주류를 구매할 수 없습니다.')\n",
    "print(f'{20-age}년 후에 다시 찾아주십시오.')"
   ]
  },
  {
   "cell_type": "markdown",
   "id": "853f9b35",
   "metadata": {},
   "source": [
    "# 50000원 이하면 배송비 2500원이 추가 됩니다."
   ]
  },
  {
   "cell_type": "code",
   "execution_count": 11,
   "id": "f9ce44ce",
   "metadata": {},
   "outputs": [
    {
     "name": "stdout",
     "output_type": "stream",
     "text": [
      "구매 금액은? 600000\n",
      "배송비 무료입니다.\n",
      "최종 결제 금액은 600000 원 입니다\n"
     ]
    }
   ],
   "source": [
    "price = int(input('구매 금액은? '))\n",
    "\n",
    "if price < 50000 :\n",
    "    print(f'배송비 2500원이 추가 됩니다.')\n",
    "    print(f'최종 결제 금액은 {2500+price} 원 입니다')\n",
    "else :\n",
    "    print(f'배송비 무료입니다.')\n",
    "    print(f'최종 결제 금액은 {price} 원 입니다')"
   ]
  },
  {
   "cell_type": "code",
   "execution_count": 14,
   "id": "9027f96c",
   "metadata": {},
   "outputs": [
    {
     "name": "stdout",
     "output_type": "stream",
     "text": [
      "오늘은 며칠 입니까? 8\n",
      "짝수번호 차량만 통행 가능합니다.\n",
      "홀수번호 차주는 오늘 대중교통을 이용해주세요.\n"
     ]
    }
   ],
   "source": [
    "# 차량 이부제\n",
    "date = int(input('오늘은 며칠 입니까? '))\n",
    "\n",
    "if date % 2 == 0 :\n",
    "    print(f'짝수번호 차량만 통행 가능합니다.')\n",
    "    print(f'홀수번호 차주는 오늘 대중교통을 이용해주세요.')\n",
    "else :\n",
    "    print(f'홀수번호 차량만 통행 가능합니다.')\n",
    "    print(f'짝수번호 차주는 오늘 대중교통을 이용해주세요.')"
   ]
  }
 ],
 "metadata": {
  "kernelspec": {
   "display_name": "Python 3 (ipykernel)",
   "language": "python",
   "name": "python3"
  },
  "language_info": {
   "codemirror_mode": {
    "name": "ipython",
    "version": 3
   },
   "file_extension": ".py",
   "mimetype": "text/x-python",
   "name": "python",
   "nbconvert_exporter": "python",
   "pygments_lexer": "ipython3",
   "version": "3.9.7"
  }
 },
 "nbformat": 4,
 "nbformat_minor": 5
}
