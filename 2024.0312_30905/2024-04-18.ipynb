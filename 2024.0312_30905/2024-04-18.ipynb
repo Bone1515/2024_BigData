{
 "cells": [
  {
   "cell_type": "markdown",
   "id": "683eabc5",
   "metadata": {},
   "source": [
    "## 30904_김진완_0418"
   ]
  },
  {
   "cell_type": "code",
   "execution_count": 3,
   "id": "167fc4c5",
   "metadata": {},
   "outputs": [
    {
     "name": "stdout",
     "output_type": "stream",
     "text": [
      "월 별로 수입액을 입력시켜 주세요!\n",
      "1 월의 수입액을 입력시켜 주세요\n",
      "250\n",
      "2 월의 수입액을 입력시켜 주세요\n",
      "20\n",
      "3 월의 수입액을 입력시켜 주세요\n",
      "20\n",
      "4 월의 수입액을 입력시켜 주세요\n",
      "20\n",
      "5 월의 수입액을 입력시켜 주세요\n",
      "20\n",
      "6 월의 수입액을 입력시켜 주세요\n",
      "20\n",
      "상반기 월별 수입액 입니다.\n",
      "상반기 월 수입액의 총합은350만원 입니다.\n",
      "상반기 월 수입액의 평균은58.333333333333336만원 입니다.\n"
     ]
    }
   ],
   "source": [
    "money = [] # 월별 수입 저장\n",
    "print('월 별로 수입액을 입력시켜 주세요!')\n",
    "for j in range(0,6) :\n",
    "    print((j+1),'월의 수입액을 입력시켜 주세요')\n",
    "    money.append(int(input(''))) # 수입을 입력 받아 리스트에 추가\n",
    "sum = 0 # 총 수입 저장변수\n",
    "i = 0\n",
    "print('상반기 월별 수입액 입니다.')\n",
    "while i<6 :\n",
    "    sum = money[i] + sum # 수입계산\n",
    "    i = i+1\n",
    "avg = sum/6 # 평균계산\n",
    "print(f'상반기 월 수입액의 총합은{sum}만원 입니다.')\n",
    "print(f'상반기 월 수입액의 평균은{avg}만원 입니다.')"
   ]
  },
  {
   "cell_type": "markdown",
   "id": "c25b5408",
   "metadata": {},
   "source": [
    "## 예상 문제 4 무작위로 입력된 점수 리스트에서 70점 이상인 번호와 값 출력하기"
   ]
  },
  {
   "cell_type": "code",
   "execution_count": 2077,
   "id": "81eae885",
   "metadata": {},
   "outputs": [
    {
     "name": "stdout",
     "output_type": "stream",
     "text": [
      "리스트에서 점수가 70점 이상인 번호와 값 출력하기\n",
      "4 변 84\n",
      "7 변 97\n",
      "9 변 92\n",
      "11 변 88\n",
      "12 변 82\n",
      "11 변 88\n"
     ]
    }
   ],
   "source": [
    "import random # 랜덤한 수 입력\n",
    "score = [] # 입력된 수 저장\n",
    "\n",
    "# 25명의 학생들에게 무작위로 점수를 부여\n",
    "for i in range(0,25) :\n",
    "    score.append(random.randint(0,100)) # 0 과 100 사이의 수로 지정\n",
    "print('리스트에서 점수가 70점 이상인 번호와 값 출력하기')\n",
    "\n",
    "# 리스트에서 70점 이상인 점수를 가진 학생들의 번호와 점수를 출력\n",
    "for s in score :\n",
    "    if s>=70:\n",
    "        print(score.index(s)+1, '변',s)"
   ]
  },
  {
   "cell_type": "markdown",
   "id": "481d6586",
   "metadata": {},
   "source": [
    "## 예상 문제 5 지하철 게임 만들기"
   ]
  },
  {
   "cell_type": "code",
   "execution_count": 2078,
   "id": "e442f2a4",
   "metadata": {},
   "outputs": [
    {
     "name": "stdout",
     "output_type": "stream",
     "text": [
      "지하철지하철지하철지하철\n",
      "몇호선팔호선\n",
      "모란\n",
      "수진\n",
      "신흥\n",
      "단대오거리\n",
      "남한산성입구\n",
      "산성\n",
      "남위례\n",
      "복정\n",
      "장지\n",
      "문정\n"
     ]
    }
   ],
   "source": [
    "신분당선 = ['광교','광교중앙','상현','성복','수지구청','동천','미금','정자','판교','청계산입구','양재시민의숲','양재','강남']\n",
    "팔호선 = ['모란','수진','신흥','단대오거리','남한산성입구','산성','남위례','복정','장지','문정','가락시장','송파','석촌','잠실','몽촌토성','강동구청','천호','암사']\n",
    "\n",
    "print('지하철'*4)\n",
    "# 호선 입력 받기\n",
    "호선 = input('몇호선')\n",
    "\n",
    "# 호선에 다라 해당 호선의 역이름을 받고 입력된 역이 해당호선에 속하는지 확인\n",
    "for i in range(10) :\n",
    "    if 호선 == '신분당선' :\n",
    "        입력 = input()\n",
    "        if 입력 not in 신분당선:\n",
    "            print('땡! 해당 역은',호선,'이 아닙니다')\n",
    "            print('벌칙 당첨')\n",
    "            break\n",
    "    elif 호선 == '팔호선' :\n",
    "        입력 = input()\n",
    "        if 입력 not in 팔호선 :\n",
    "            print('땡 해당 역은',호선,'이 아닙니다')\n",
    "            print('벌칙 당첨')\n",
    "            break"
   ]
  },
  {
   "cell_type": "raw",
   "id": "cbf89d06",
   "metadata": {},
   "source": []
  }
 ],
 "metadata": {
  "kernelspec": {
   "display_name": "Python 3 (ipykernel)",
   "language": "python",
   "name": "python3"
  },
  "language_info": {
   "codemirror_mode": {
    "name": "ipython",
    "version": 3
   },
   "file_extension": ".py",
   "mimetype": "text/x-python",
   "name": "python",
   "nbconvert_exporter": "python",
   "pygments_lexer": "ipython3",
   "version": "3.9.7"
  }
 },
 "nbformat": 4,
 "nbformat_minor": 5
}
