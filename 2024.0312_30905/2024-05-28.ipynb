{
 "cells": [
  {
   "cell_type": "markdown",
   "id": "ecb86b6d",
   "metadata": {},
   "source": [
    "프로그래밍 세계에 오신걸 환영합니다.\n",
    "\n",
    "첫 번째 문제는 인사말을 출력하는 문제입니다.\n",
    "\n",
    "기본 출력 명령은 printf입니다.\n",
    "\n",
    "이 출력 명령으로 Hello, World!를 출력하시오."
   ]
  },
  {
   "cell_type": "code",
   "execution_count": 9,
   "id": "6fc30569",
   "metadata": {},
   "outputs": [
    {
     "name": "stdout",
     "output_type": "stream",
     "text": [
      "Hello,World!\n"
     ]
    }
   ],
   "source": [
    "print('Hello,World!')"
   ]
  },
  {
   "cell_type": "markdown",
   "id": "ce3707da",
   "metadata": {},
   "source": [
    "1001번 문제를 다음과 같이 두 줄로 출력하세요.\n",
    "\n",
    "Hello,\n",
    "World!\n",
    "\\n은 줄을 바꾸는 제어 문자이다. 이를 활용해보자."
   ]
  },
  {
   "cell_type": "code",
   "execution_count": 10,
   "id": "256d0b0a",
   "metadata": {},
   "outputs": [
    {
     "name": "stdout",
     "output_type": "stream",
     "text": [
      "Hello,\n",
      "Word!\n"
     ]
    }
   ],
   "source": [
    "print(\"Hello,\\nWord!\")"
   ]
  },
  {
   "cell_type": "markdown",
   "id": "fe028f6c",
   "metadata": {},
   "source": [
    "printf()함수를 공부하는 진영이는 다음 폴더명을 출력해보기로 했다.\n",
    "\n",
    "\"c:\\test\"\n",
    "printf함수에는 특별한 제어문자가 몇개 있다.\n",
    "\n",
    "큰따옴표(\")를 출력하기 위해선 \\\" 를 사용해야 하고,\n",
    "\n",
    "\\를 출력하기 위해선 \\\\ 를 사용해야 한다.\n",
    "\n",
    "---- 웹상의 소스를 복사해서 붙이는 경우 에러가 날 수 있습니다."
   ]
  },
  {
   "cell_type": "code",
   "execution_count": 23,
   "id": "2aa14a29",
   "metadata": {},
   "outputs": [
    {
     "name": "stdout",
     "output_type": "stream",
     "text": [
      "\"c:\\test\"\n"
     ]
    }
   ],
   "source": [
    "print(\"\\\"c:\\\\test\\\"\")"
   ]
  },
  {
   "cell_type": "code",
   "execution_count": null,
   "id": "b3f35a85",
   "metadata": {},
   "outputs": [],
   "source": []
  }
 ],
 "metadata": {
  "kernelspec": {
   "display_name": "Python 3 (ipykernel)",
   "language": "python",
   "name": "python3"
  },
  "language_info": {
   "codemirror_mode": {
    "name": "ipython",
    "version": 3
   },
   "file_extension": ".py",
   "mimetype": "text/x-python",
   "name": "python",
   "nbconvert_exporter": "python",
   "pygments_lexer": "ipython3",
   "version": "3.9.7"
  }
 },
 "nbformat": 4,
 "nbformat_minor": 5
}
