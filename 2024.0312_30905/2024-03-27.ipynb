{
  "nbformat": 4,
  "nbformat_minor": 0,
  "metadata": {
    "colab": {
      "provenance": []
    },
    "kernelspec": {
      "name": "python3",
      "display_name": "Python 3"
    },
    "language_info": {
      "name": "python"
    }
  },
  "cells": [
    {
      "cell_type": "markdown",
      "source": [
        "## 30904_김진완_0327"
      ],
      "metadata": {
        "id": "DbClMmT16cal"
      }
    },
    {
      "cell_type": "code",
      "source": [
        "#학생 5명의 시험점수를 입력받아 합계와 평균을 출력하기\n",
        "\n",
        "a = int(input(\"1번 학생의 점수를 입력하세요: \"))\n",
        "b = int(input(\"2번 학생의 점수를 입력하세요: \"))\n",
        "c = int(input(\"3번 학생의 점수를 입력하세요: \"))\n",
        "d = int(input(\"4번 학생의 점수를 입력하세요: \"))\n",
        "e = int(input(\"5번 학생의 점수를 입력하세요: \"))\n",
        "\n",
        "p = a + b + c + d + e\n",
        "\n",
        "avg = (a + b + c + d + e) / 5\n",
        "\n",
        "print(\"합계는\",p,\"점입니다.\")\n",
        "print(\"평균은\",avg,\"점입니다\")"
      ],
      "metadata": {
        "colab": {
          "base_uri": "https://localhost:8080/"
        },
        "id": "ThbnXj1S6med",
        "outputId": "daa37f74-fc0c-4ee5-a1e7-828101d0c040"
      },
      "execution_count": 9,
      "outputs": [
        {
          "output_type": "stream",
          "name": "stdout",
          "text": [
            "1번 학생의 점수를 입력하세요: 32\n",
            "2번 학생의 점수를 입력하세요: 68\n",
            "3번 학생의 점수를 입력하세요: 72\n",
            "4번 학생의 점수를 입력하세요: 54\n",
            "5번 학생의 점수를 입력하세요: 92\n",
            "합계는 318 점입니다.\n",
            "평균은 63.6 점입니다\n"
          ]
        }
      ]
    },
    {
      "cell_type": "markdown",
      "source": [
        "- 배열 : 묶음 단위로 값을 저장하는 자료구조\n",
        "  - 원소 : 배열에 저장된 각 객체\n",
        "  - 각 원소는 0,1,--- 순서대로 인덱스(주소)를부 부여받음\n",
        "  - 원소의 자료형은 int형 float형 어떤것도 상관없음\n",
        "  - 서로 다른 자료형을 같이 저장할 수 있음\n",
        "  - 배열 원소 자체를 배열에 저장할 수도 있음"
      ],
      "metadata": {
        "id": "Z59CPX1A9qyd"
      }
    },
    {
      "cell_type": "code",
      "source": [
        "#list 선언\n",
        "list01 = [] # 빈리스트\n",
        "a = [1,2,3,4,5]\n",
        "b = ['A','B','C']\n",
        "\n",
        "print(a)\n",
        "print(b)"
      ],
      "metadata": {
        "colab": {
          "base_uri": "https://localhost:8080/"
        },
        "id": "xjCBHJAL7hVt",
        "outputId": "baf0dfcc-588f-432a-923c-8ed920ba9ee0"
      },
      "execution_count": 10,
      "outputs": [
        {
          "output_type": "stream",
          "name": "stdout",
          "text": [
            "[1, 2, 3, 4, 5]\n",
            "['A', 'B', 'C']\n"
          ]
        }
      ]
    },
    {
      "cell_type": "markdown",
      "source": [
        "- 튜플\n",
        "  - 원소에 순서를 매겨 결합한 것으로 원소를 변경할 수 없는 자료형\n",
        "  - ()만 사용하면 빈 튜플 생성\n",
        "  "
      ],
      "metadata": {
        "id": "iEi0Gx8s-nrO"
      }
    },
    {
      "cell_type": "code",
      "source": [
        "tuple01 = ()\n",
        "tuple02 = 1,2,3,4,5\n",
        "tuple03 = 'A','B','C'\n",
        "\n",
        "print(tuple01)\n",
        "print(tuple02)\n",
        "print(tuple03)"
      ],
      "metadata": {
        "colab": {
          "base_uri": "https://localhost:8080/"
        },
        "id": "QkkgI9fc_IAE",
        "outputId": "355f58ea-3183-4128-9599-f652d22b25ae"
      },
      "execution_count": 15,
      "outputs": [
        {
          "output_type": "stream",
          "name": "stdout",
          "text": [
            "()\n",
            "(1, 2, 3, 4, 5)\n",
            "('A', 'B', 'C')\n"
          ]
        }
      ]
    },
    {
      "cell_type": "code",
      "source": [
        "a = tuple(range(3,13,2))\n",
        "print(a)"
      ],
      "metadata": {
        "colab": {
          "base_uri": "https://localhost:8080/"
        },
        "id": "x6gKQc8N_Q4s",
        "outputId": "3154981d-49a2-410a-e4a8-7431116dd769"
      },
      "execution_count": 16,
      "outputs": [
        {
          "output_type": "stream",
          "name": "stdout",
          "text": [
            "(3, 5, 7, 9, 11)\n"
          ]
        }
      ]
    },
    {
      "cell_type": "code",
      "source": [],
      "metadata": {
        "id": "VWWL0OTE_-Vs"
      },
      "execution_count": null,
      "outputs": []
    }
  ]
}